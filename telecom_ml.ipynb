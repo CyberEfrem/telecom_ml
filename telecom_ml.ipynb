{
 "cells": [
  {
   "cell_type": "markdown",
   "metadata": {},
   "source": [
    "# Рекомендация тарифов"
   ]
  },
  {
   "cell_type": "markdown",
   "metadata": {},
   "source": [
    "В вашем распоряжении данные о поведении клиентов, которые уже перешли на эти тарифы (из проекта курса «Статистический анализ данных»). Нужно построить модель для задачи классификации, которая выберет подходящий тариф. Предобработка данных не понадобится — вы её уже сделали.\n",
    "\n",
    "Постройте модель с максимально большим значением *accuracy*. Чтобы сдать проект успешно, нужно довести долю правильных ответов по крайней мере до 0.75. Проверьте *accuracy* на тестовой выборке самостоятельно.\n",
    "\n",
    "**Описание данных**\n",
    "\n",
    "Каждый объект в наборе данных — это информация о поведении одного пользователя за месяц. Известно:\n",
    "\n",
    "сalls — количество звонков,\n",
    "minutes — суммарная длительность звонков в минутах,\n",
    "messages — количество sms-сообщений,\n",
    "mb_used — израсходованный интернет-трафик в Мб,\n",
    "is_ultra — каким тарифом пользовался в течение месяца («Ультра» — 1, «Смарт» — 0).\n",
    "\n",
    "**Задача:**\n",
    "\n",
    "Построить модель классификации, которая выберет подходящий тариф, на основании данных о поведении клиентов, которые уже перешли на эти тарифы. Метрика: accuracy должна быть наибольшей."
   ]
  },
  {
   "cell_type": "markdown",
   "metadata": {},
   "source": [
    "## Откроем и изучим файл"
   ]
  },
  {
   "cell_type": "markdown",
   "metadata": {},
   "source": [
    "Откроем файл и изучим основные характеристики датасета."
   ]
  },
  {
   "cell_type": "code",
   "execution_count": 59,
   "metadata": {},
   "outputs": [],
   "source": [
    "import pandas as pd\n",
    "import numpy as np\n",
    "import seaborn as sns\n",
    "import matplotlib.pyplot as plt\n",
    "\n",
    "from sklearn.model_selection import train_test_split\n",
    "\n",
    "from sklearn.tree import DecisionTreeRegressor\n",
    "from sklearn.metrics import mean_squared_error\n",
    "from sklearn.linear_model import LogisticRegression \n",
    "from sklearn.tree import DecisionTreeClassifier\n",
    "from sklearn.ensemble import RandomForestClassifier \n",
    "from sklearn.metrics import accuracy_score\n",
    "from sklearn.dummy import DummyClassifier"
   ]
  },
  {
   "cell_type": "code",
   "execution_count": 2,
   "metadata": {},
   "outputs": [
    {
     "data": {
      "text/html": [
       "<div>\n",
       "<style scoped>\n",
       "    .dataframe tbody tr th:only-of-type {\n",
       "        vertical-align: middle;\n",
       "    }\n",
       "\n",
       "    .dataframe tbody tr th {\n",
       "        vertical-align: top;\n",
       "    }\n",
       "\n",
       "    .dataframe thead th {\n",
       "        text-align: right;\n",
       "    }\n",
       "</style>\n",
       "<table border=\"1\" class=\"dataframe\">\n",
       "  <thead>\n",
       "    <tr style=\"text-align: right;\">\n",
       "      <th></th>\n",
       "      <th>calls</th>\n",
       "      <th>minutes</th>\n",
       "      <th>messages</th>\n",
       "      <th>mb_used</th>\n",
       "      <th>is_ultra</th>\n",
       "    </tr>\n",
       "  </thead>\n",
       "  <tbody>\n",
       "    <tr>\n",
       "      <td>0</td>\n",
       "      <td>40.0</td>\n",
       "      <td>311.90</td>\n",
       "      <td>83.0</td>\n",
       "      <td>19915.42</td>\n",
       "      <td>0</td>\n",
       "    </tr>\n",
       "    <tr>\n",
       "      <td>1</td>\n",
       "      <td>85.0</td>\n",
       "      <td>516.75</td>\n",
       "      <td>56.0</td>\n",
       "      <td>22696.96</td>\n",
       "      <td>0</td>\n",
       "    </tr>\n",
       "    <tr>\n",
       "      <td>2</td>\n",
       "      <td>77.0</td>\n",
       "      <td>467.66</td>\n",
       "      <td>86.0</td>\n",
       "      <td>21060.45</td>\n",
       "      <td>0</td>\n",
       "    </tr>\n",
       "    <tr>\n",
       "      <td>3</td>\n",
       "      <td>106.0</td>\n",
       "      <td>745.53</td>\n",
       "      <td>81.0</td>\n",
       "      <td>8437.39</td>\n",
       "      <td>1</td>\n",
       "    </tr>\n",
       "    <tr>\n",
       "      <td>4</td>\n",
       "      <td>66.0</td>\n",
       "      <td>418.74</td>\n",
       "      <td>1.0</td>\n",
       "      <td>14502.75</td>\n",
       "      <td>0</td>\n",
       "    </tr>\n",
       "  </tbody>\n",
       "</table>\n",
       "</div>"
      ],
      "text/plain": [
       "   calls  minutes  messages   mb_used  is_ultra\n",
       "0   40.0   311.90      83.0  19915.42         0\n",
       "1   85.0   516.75      56.0  22696.96         0\n",
       "2   77.0   467.66      86.0  21060.45         0\n",
       "3  106.0   745.53      81.0   8437.39         1\n",
       "4   66.0   418.74       1.0  14502.75         0"
      ]
     },
     "execution_count": 2,
     "metadata": {},
     "output_type": "execute_result"
    }
   ],
   "source": [
    "df = pd.read_csv('/datasets/users_behavior.csv')\n",
    "df.head()"
   ]
  },
  {
   "cell_type": "code",
   "execution_count": 3,
   "metadata": {},
   "outputs": [
    {
     "name": "stdout",
     "output_type": "stream",
     "text": [
      "<class 'pandas.core.frame.DataFrame'>\n",
      "RangeIndex: 3214 entries, 0 to 3213\n",
      "Data columns (total 5 columns):\n",
      "calls       3214 non-null float64\n",
      "minutes     3214 non-null float64\n",
      "messages    3214 non-null float64\n",
      "mb_used     3214 non-null float64\n",
      "is_ultra    3214 non-null int64\n",
      "dtypes: float64(4), int64(1)\n",
      "memory usage: 125.7 KB\n"
     ]
    }
   ],
   "source": [
    "df.info()"
   ]
  },
  {
   "cell_type": "code",
   "execution_count": 4,
   "metadata": {},
   "outputs": [
    {
     "data": {
      "image/png": "[encoded data removed]",
      "text/plain": [
       "<Figure size 576x432 with 2 Axes>"
      ]
     },
     "metadata": {
      "needs_background": "light"
     },
     "output_type": "display_data"
    }
   ],
   "source": [
    "f, ax = plt.subplots(figsize=[8,6])\n",
    "sns.heatmap(df.corr(), annot=True, fmt=\".2f\",cbar_kws={'label': 'Проценты %'},cmap=\"Blues\",ax=ax)\n",
    "ax.set_title('Корреляция признаков');"
   ]
  },
  {
   "cell_type": "code",
   "execution_count": 5,
   "metadata": {},
   "outputs": [
    {
     "data": {
      "text/plain": [
       "0.30647168637212197"
      ]
     },
     "execution_count": 5,
     "metadata": {},
     "output_type": "execute_result"
    }
   ],
   "source": [
    "df.is_ultra.mean()"
   ]
  },
  {
   "cell_type": "markdown",
   "metadata": {},
   "source": [
    "**Вывод**\n",
    "\n",
    "наш целевой признак - тариф, тариф Ультра составлят 30.7% выборки. Рспределение неравномерное.\n",
    "\n",
    "Мы также выявили практические идентичную корреляцию между звонками и минутми, по сему попробуем один признак опустить, пусть это будут минуты."
   ]
  },
  {
   "cell_type": "code",
   "execution_count": 6,
   "metadata": {},
   "outputs": [],
   "source": [
    "df = df.drop(['minutes'], axis=1)"
   ]
  },
  {
   "cell_type": "markdown",
   "metadata": {},
   "source": [
    "## Разобъем данные на выборки"
   ]
  },
  {
   "cell_type": "markdown",
   "metadata": {},
   "source": [
    "Разделим на обучающую, валидационную и тестовую выборки:"
   ]
  },
  {
   "cell_type": "code",
   "execution_count": 12,
   "metadata": {},
   "outputs": [],
   "source": [
    "data_train, data_testing = train_test_split(df, test_size = 0.4, random_state = 42)"
   ]
  },
  {
   "cell_type": "code",
   "execution_count": 13,
   "metadata": {},
   "outputs": [],
   "source": [
    "features_train = data_train.drop(['is_ultra'], axis = 1)\n",
    "target_train = data_train['is_ultra']"
   ]
  },
  {
   "cell_type": "markdown",
   "metadata": {},
   "source": [
    "Мы поделили выборку в пропорции 60%/40%. 60 - наша обучающая выборка. 40 - это наши валидационная и тестовая выборки, которые мы разделим ниже."
   ]
  },
  {
   "cell_type": "code",
   "execution_count": 14,
   "metadata": {},
   "outputs": [
    {
     "name": "stdout",
     "output_type": "stream",
     "text": [
      "Размеры обучающей выборки:\n",
      "(1928, 3)\n",
      "(1928,)\n"
     ]
    }
   ],
   "source": [
    "print('Размеры обучающей выборки:')\n",
    "print(features_train.shape)\n",
    "print(target_train.shape)"
   ]
  },
  {
   "cell_type": "code",
   "execution_count": 15,
   "metadata": {},
   "outputs": [],
   "source": [
    "data_valid, data_test = train_test_split(data_testing, test_size = 0.5, random_state = 42)"
   ]
  },
  {
   "cell_type": "code",
   "execution_count": 16,
   "metadata": {},
   "outputs": [
    {
     "name": "stdout",
     "output_type": "stream",
     "text": [
      "Размеры валидационной выборки:\n",
      "(643, 3)\n",
      "(643,)\n",
      "\n",
      "Размеры тестовой выборки:\n",
      "(643, 3)\n",
      "(643,)\n"
     ]
    }
   ],
   "source": [
    "features_valid = data_valid.drop(['is_ultra'], axis = 1)\n",
    "target_valid   = data_valid['is_ultra']\n",
    "print('Размеры валидационной выборки:')\n",
    "print(features_valid.shape)\n",
    "print(target_valid.shape)\n",
    "print()\n",
    "\n",
    "features_test = data_test.drop(['is_ultra'], axis = 1)\n",
    "target_test   = data_test['is_ultra']\n",
    "print('Размеры тестовой выборки:')\n",
    "print(features_test.shape)\n",
    "print(target_test.shape)"
   ]
  },
  {
   "cell_type": "markdown",
   "metadata": {},
   "source": [
    "Разделили выборку на обучающую, валидационную, тестовую части в пропорции: 60%, 20%, 20%."
   ]
  },
  {
   "cell_type": "markdown",
   "metadata": {},
   "source": [
    "## Исследуем модели"
   ]
  },
  {
   "cell_type": "markdown",
   "metadata": {},
   "source": [
    "Нам нужно решить задачу бинарной классификации, так как пользователи выбирают один из двух предложенных тарифов. Для решения этой задачи обратимся к следующим моделям из библиотеки sklearn:\n",
    "\n",
    "- Логистическая регрессия LogisticRegression\n",
    "- Дерево решений DecisionTreeClassifier\n",
    "- Случайный лес RandomForestClassifier"
   ]
  },
  {
   "cell_type": "markdown",
   "metadata": {},
   "source": [
    "1. **Дерево решений**"
   ]
  },
  {
   "cell_type": "code",
   "execution_count": 24,
   "metadata": {},
   "outputs": [
    {
     "name": "stdout",
     "output_type": "stream",
     "text": [
      "Accuracy лучшей модели в дереве решений: 0.813\n",
      "Достигается при глубине 8\n"
     ]
    }
   ],
   "source": [
    "models_dict = {}\n",
    "best_tree_model = None\n",
    "best_tree_result = 0\n",
    "best_tree_depth = 0\n",
    "tree_result_list = []\n",
    "\n",
    "for depth in range(1, 21):\n",
    "    tree_model = DecisionTreeClassifier(random_state=42, max_depth=depth)\n",
    "    tree_model.fit(features_train, target_train)\n",
    "    \n",
    "    tree_result = tree_model.score(features_valid, target_valid)\n",
    "    tree_result_list.append(tree_result)\n",
    "\n",
    "    if tree_result > best_tree_result:\n",
    "        best_tree_model = tree_model\n",
    "        best_tree_result = tree_result\n",
    "        best_tree_depth = depth\n",
    "        \n",
    "print('Accuracy лучшей модели в дереве решений:', round(best_tree_result, 3))\n",
    "print('Достигается при глубине', best_tree_depth)\n",
    "\n",
    "models_dict['Tree'] = best_tree_result"
   ]
  },
  {
   "cell_type": "markdown",
   "metadata": {},
   "source": [
    "2. **Случайный лес**"
   ]
  },
  {
   "cell_type": "code",
   "execution_count": 35,
   "metadata": {},
   "outputs": [
    {
     "name": "stdout",
     "output_type": "stream",
     "text": [
      "Accuracy наилучшей модели случайного леса на валидационной выборке: 0.824\n",
      "Количество деревьев: 17\n",
      "Максимальная глубина: 8\n"
     ]
    }
   ],
   "source": [
    "best_forest_model = None\n",
    "best_forest_result = 0\n",
    "best_forest_est = 0\n",
    "best_forest_depth = 0\n",
    "f_list = []\n",
    "\n",
    "for est in range(1, 100):\n",
    "    forest_result_list = []\n",
    "    for depth in range (1, 15):\n",
    "        forest_model = RandomForestClassifier(random_state=123, n_estimators=est, max_depth=depth)\n",
    "        forest_model.fit(features_train, target_train) \n",
    "        forest_result = forest_model.score(features_valid, target_valid)\n",
    "        forest_result_list.append(forest_result)\n",
    "        if forest_result > best_forest_result:\n",
    "            best_forest_model = forest_model\n",
    "            best_forest_result = forest_result\n",
    "            best_forest_est = est\n",
    "            best_forest_depth = depth\n",
    "print(\"Accuracy наилучшей модели случайного леса на валидационной выборке:\", round(best_forest_result, 3))\n",
    "print(\"Количество деревьев:\", best_forest_est)\n",
    "print(\"Максимальная глубина:\", best_forest_depth)"
   ]
  },
  {
   "cell_type": "code",
   "execution_count": 36,
   "metadata": {},
   "outputs": [],
   "source": [
    "models_dict['R Forest'] = 0.824"
   ]
  },
  {
   "cell_type": "markdown",
   "metadata": {},
   "source": [
    "3. **Логистическая регрессия**"
   ]
  },
  {
   "cell_type": "markdown",
   "metadata": {},
   "source": [
    "Выбрали параметр solver='liblinear', так как у нас небольшая выборка данных"
   ]
  },
  {
   "cell_type": "code",
   "execution_count": 52,
   "metadata": {},
   "outputs": [
    {
     "name": "stdout",
     "output_type": "stream",
     "text": [
      "Качество модели LogisticRegression: 0.7309486780715396\n"
     ]
    }
   ],
   "source": [
    "model = LogisticRegression(random_state=42, solver='liblinear')\n",
    "model.fit(features_train, target_train)\n",
    "accuracy = model.score(features_valid,target_valid)\n",
    "\n",
    "print('Качество модели LogisticRegression:', accuracy)"
   ]
  },
  {
   "cell_type": "code",
   "execution_count": 50,
   "metadata": {},
   "outputs": [],
   "source": [
    "models_dict['L Regress'] = 0.731"
   ]
  },
  {
   "cell_type": "code",
   "execution_count": 51,
   "metadata": {},
   "outputs": [
    {
     "data": {
      "text/plain": [
       "{'Tree': 0.8133748055987559, 'R Forest': 0.824, 'L Regress': 0.731}"
      ]
     },
     "execution_count": 51,
     "metadata": {},
     "output_type": "execute_result"
    }
   ],
   "source": [
    "models_dict"
   ]
  },
  {
   "cell_type": "markdown",
   "metadata": {},
   "source": [
    "Изучив результаты наших моделей, можем сказать, что самый лучший результат был показан моделью Случайный лес (0.824) с гиперпараметрами: Количество деревьев: 17, Максимальная глубина: 8\n",
    "\n",
    "Модель линейной регрессии не прошла пороговое значение в 0.75."
   ]
  },
  {
   "cell_type": "markdown",
   "metadata": {},
   "source": [
    "## Проверка модели на тестовой выборке"
   ]
  },
  {
   "cell_type": "code",
   "execution_count": 53,
   "metadata": {},
   "outputs": [
    {
     "name": "stdout",
     "output_type": "stream",
     "text": [
      "Результат модели на тестовой выборке: 0.818\n"
     ]
    }
   ],
   "source": [
    "my_model = RandomForestClassifier(random_state=42, n_estimators=17, max_depth=8)\n",
    "my_model.fit(pd.concat([features_train, features_valid]), pd.concat([target_train, target_valid])) \n",
    "my_result = my_model.score(features_test, target_test)\n",
    "print(f'Результат модели на тестовой выборке: {my_result:.3f}')"
   ]
  },
  {
   "cell_type": "markdown",
   "metadata": {},
   "source": [
    "## Проверим модель на адекватность"
   ]
  },
  {
   "cell_type": "markdown",
   "metadata": {},
   "source": [
    "Проверим модель с помощью классификатора-DummyClassifier, с использованием стратегии - most_frequent, кготорая всегда предсказывает наиболее частую метку в обучающем наборе"
   ]
  },
  {
   "cell_type": "code",
   "execution_count": 60,
   "metadata": {},
   "outputs": [
    {
     "name": "stdout",
     "output_type": "stream",
     "text": [
      "Классификатор \"Dummy\" : 0.6967340590979783\n",
      "Качество модели \"Случайный лес\":  0.8180404354587869\n"
     ]
    }
   ],
   "source": [
    "dummy = DummyClassifier(strategy='most_frequent', random_state=42)\n",
    "dummy.fit(features_train,target_train)\n",
    "accuracy_dummy = dummy.score(features_test,target_test)\n",
    "print('Классификатор \"Dummy\" :', accuracy_dummy)\n",
    "print('Качество модели \"Случайный лес\": ', my_result)"
   ]
  },
  {
   "cell_type": "markdown",
   "metadata": {},
   "source": [
    "**Вывод**\n",
    "\n",
    "Мы обучили модели классификации: \"решающее дерево\", \"случайный лес\", \"логистическая регрессия\" для определения подходящего тарифа с целевой точностью выше 0.75.\n",
    "\n",
    "Мы пробовали различные гиперпараметры и смогли подобрать оптимальные: лучшие показатели были зафиксированы для модели Случайный лес при параметрах: количество деревьев - 17 и глубина - 8. Модель Решающее дерево показало немногим более худший результат. Логистическая регрессия не прошла пороговый уровень в 0.75.\n",
    "\n",
    "Наша модель \"случайного леса\" дает 81,8%-ю точность предсказания подходящего тарифа сотовой связи."
   ]
  }
 ],
 "metadata": {
  "ExecuteTimeLog": [
   {
    "duration": 1563,
    "start_time": "2021-12-28T19:11:12.080Z"
   },
   {
    "duration": 34,
    "start_time": "2021-12-28T19:11:35.621Z"
   },
   {
    "duration": 11,
    "start_time": "2021-12-28T19:12:05.164Z"
   },
   {
    "duration": 700,
    "start_time": "2021-12-28T19:15:23.369Z"
   },
   {
    "duration": 539,
    "start_time": "2021-12-28T19:15:39.596Z"
   },
   {
    "duration": 509,
    "start_time": "2021-12-28T19:16:47.571Z"
   },
   {
    "duration": 512,
    "start_time": "2021-12-28T19:17:03.437Z"
   },
   {
    "duration": 494,
    "start_time": "2021-12-28T19:17:20.979Z"
   },
   {
    "duration": 6,
    "start_time": "2021-12-28T19:21:26.618Z"
   },
   {
    "duration": 8,
    "start_time": "2021-12-28T19:21:51.203Z"
   },
   {
    "duration": 7,
    "start_time": "2021-12-28T19:22:04.354Z"
   },
   {
    "duration": 7,
    "start_time": "2021-12-28T19:42:21.850Z"
   },
   {
    "duration": 1582,
    "start_time": "2021-12-30T09:40:41.243Z"
   },
   {
    "duration": 39,
    "start_time": "2021-12-30T09:40:43.102Z"
   },
   {
    "duration": 10,
    "start_time": "2021-12-30T09:40:44.878Z"
   },
   {
    "duration": 517,
    "start_time": "2021-12-30T09:40:47.238Z"
   },
   {
    "duration": 6,
    "start_time": "2021-12-30T09:40:50.462Z"
   },
   {
    "duration": 5,
    "start_time": "2021-12-30T09:40:54.206Z"
   },
   {
    "duration": 7,
    "start_time": "2021-12-30T10:03:49.044Z"
   },
   {
    "duration": 460,
    "start_time": "2021-12-30T10:06:04.081Z"
   },
   {
    "duration": 9,
    "start_time": "2021-12-30T10:06:11.370Z"
   },
   {
    "duration": 6,
    "start_time": "2021-12-30T10:06:20.298Z"
   },
   {
    "duration": 6,
    "start_time": "2021-12-30T10:07:58.149Z"
   },
   {
    "duration": 9,
    "start_time": "2021-12-30T10:10:11.104Z"
   },
   {
    "duration": 7,
    "start_time": "2021-12-30T10:10:11.603Z"
   },
   {
    "duration": 7,
    "start_time": "2021-12-30T10:10:12.647Z"
   },
   {
    "duration": 8,
    "start_time": "2021-12-30T10:10:13.409Z"
   },
   {
    "duration": 11,
    "start_time": "2021-12-30T10:11:06.273Z"
   },
   {
    "duration": 141,
    "start_time": "2021-12-30T10:13:34.941Z"
   },
   {
    "duration": 427,
    "start_time": "2021-12-30T10:15:45.986Z"
   },
   {
    "duration": 5,
    "start_time": "2021-12-30T10:16:25.459Z"
   },
   {
    "duration": 38,
    "start_time": "2021-12-30T10:16:30.609Z"
   },
   {
    "duration": 209,
    "start_time": "2021-12-30T10:16:48.369Z"
   },
   {
    "duration": 295,
    "start_time": "2021-12-30T10:18:45.628Z"
   },
   {
    "duration": 527,
    "start_time": "2021-12-30T10:21:46.929Z"
   },
   {
    "duration": 241,
    "start_time": "2021-12-30T10:22:20.287Z"
   },
   {
    "duration": 771,
    "start_time": "2021-12-30T10:24:47.339Z"
   },
   {
    "duration": 11370,
    "start_time": "2021-12-30T10:28:47.659Z"
   },
   {
    "duration": 21016,
    "start_time": "2021-12-30T10:28:59.540Z"
   },
   {
    "duration": 22359,
    "start_time": "2021-12-30T10:30:41.005Z"
   },
   {
    "duration": 298,
    "start_time": "2021-12-30T10:34:12.419Z"
   },
   {
    "duration": 289624,
    "start_time": "2021-12-30T10:34:20.670Z"
   },
   {
    "duration": 312,
    "start_time": "2021-12-30T10:50:57.593Z"
   },
   {
    "duration": 5,
    "start_time": "2021-12-30T10:51:46.156Z"
   },
   {
    "duration": 422,
    "start_time": "2021-12-30T10:52:01.307Z"
   },
   {
    "duration": 207452,
    "start_time": "2021-12-30T10:52:21.804Z"
   },
   {
    "duration": 4,
    "start_time": "2021-12-30T11:05:22.055Z"
   },
   {
    "duration": 18,
    "start_time": "2021-12-30T11:07:53.769Z"
   },
   {
    "duration": 23,
    "start_time": "2021-12-30T11:08:34.964Z"
   },
   {
    "duration": 23,
    "start_time": "2021-12-30T11:08:48.211Z"
   },
   {
    "duration": 17,
    "start_time": "2021-12-30T11:08:55.659Z"
   },
   {
    "duration": 328,
    "start_time": "2021-12-30T11:10:01.128Z"
   },
   {
    "duration": 47,
    "start_time": "2021-12-30T11:10:33.343Z"
   },
   {
    "duration": 39,
    "start_time": "2021-12-30T11:16:29.446Z"
   },
   {
    "duration": 52,
    "start_time": "2021-12-30T11:22:24.988Z"
   },
   {
    "duration": 298,
    "start_time": "2021-12-30T11:22:38.663Z"
   },
   {
    "duration": 36,
    "start_time": "2021-12-30T11:22:49.048Z"
   },
   {
    "duration": 59,
    "start_time": "2021-12-30T11:23:10.371Z"
   },
   {
    "duration": 435,
    "start_time": "2021-12-30T11:23:25.175Z"
   },
   {
    "duration": 20,
    "start_time": "2021-12-30T11:23:36.427Z"
   },
   {
    "duration": 5,
    "start_time": "2021-12-30T11:24:16.621Z"
   },
   {
    "duration": 7,
    "start_time": "2021-12-30T11:24:25.938Z"
   },
   {
    "duration": 18,
    "start_time": "2021-12-30T11:28:48.398Z"
   },
   {
    "duration": 116,
    "start_time": "2021-12-30T11:37:05.852Z"
   },
   {
    "duration": 310,
    "start_time": "2021-12-30T11:40:45.809Z"
   },
   {
    "duration": 8,
    "start_time": "2021-12-30T11:41:42.897Z"
   },
   {
    "duration": 335,
    "start_time": "2021-12-30T11:41:47.850Z"
   },
   {
    "duration": 369,
    "start_time": "2021-12-30T11:42:04.168Z"
   },
   {
    "duration": 297,
    "start_time": "2021-12-30T12:17:09.301Z"
   },
   {
    "duration": 6,
    "start_time": "2021-12-30T12:17:46.924Z"
   },
   {
    "duration": 9,
    "start_time": "2021-12-30T12:17:51.406Z"
   },
   {
    "duration": 20,
    "start_time": "2021-12-30T12:23:39.109Z"
   },
   {
    "duration": 76,
    "start_time": "2021-12-30T20:10:09.330Z"
   }
  ],
  "kernelspec": {
   "display_name": "Python 3",
   "language": "python",
   "name": "python3"
  },
  "language_info": {
   "codemirror_mode": {
    "name": "ipython",
    "version": 3
   },
   "file_extension": ".py",
   "mimetype": "text/x-python",
   "name": "python",
   "nbconvert_exporter": "python",
   "pygments_lexer": "ipython3",
   "version": "3.7.8"
  },
  "toc": {
   "base_numbering": 1,
   "nav_menu": {},
   "number_sections": true,
   "sideBar": true,
   "skip_h1_title": true,
   "title_cell": "Table of Contents",
   "title_sidebar": "Contents",
   "toc_cell": false,
   "toc_position": {},
   "toc_section_display": true,
   "toc_window_display": false
  }
 },
 "nbformat": 4,
 "nbformat_minor": 2
}
